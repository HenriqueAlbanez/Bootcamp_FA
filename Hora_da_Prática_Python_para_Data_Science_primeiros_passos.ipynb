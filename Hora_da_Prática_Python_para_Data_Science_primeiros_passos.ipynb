{
  "nbformat": 4,
  "nbformat_minor": 0,
  "metadata": {
    "colab": {
      "provenance": [],
      "toc_visible": true,
      "include_colab_link": true
    },
    "kernelspec": {
      "name": "python3",
      "display_name": "Python 3"
    },
    "language_info": {
      "name": "python"
    }
  },
  "cells": [
    {
      "cell_type": "markdown",
      "metadata": {
        "id": "view-in-github",
        "colab_type": "text"
      },
      "source": [
        "<a href=\"https://colab.research.google.com/github/HenriqueAlbanez/Bootcamp_FA/blob/main/Hora_da_Pr%C3%A1tica_Python_para_Data_Science_primeiros_passos.ipynb\" target=\"_parent\"><img src=\"https://colab.research.google.com/assets/colab-badge.svg\" alt=\"Open In Colab\"/></a>"
      ]
    },
    {
      "cell_type": "markdown",
      "source": [
        "# Sobre o notebook\n",
        "\n",
        "A \"hora da prática\" é uma atividade do curso de Python para Data Science da Alura que contém diversos desafios envolvendo os aprendizados de cada aula.\n",
        "\n",
        "O notebook \"hora da pratica\" é um notebook construído com espaço para as células dos desafios propostos no curso, com ele você tem espaço para construir e executar suas soluções"
      ],
      "metadata": {
        "id": "_kwAaQ36gLQ1"
      }
    },
    {
      "cell_type": "markdown",
      "source": [
        "## Aula 1 - Introdução ao Python ✅"
      ],
      "metadata": {
        "id": "Mc-KN0dA0Z83"
      }
    },
    {
      "cell_type": "markdown",
      "source": [
        "### Questão 1\n",
        "\n",
        "Imprima a frase `Escola de Dados da Alura!`"
      ],
      "metadata": {
        "id": "l5eLWf0W0ikn"
      }
    },
    {
      "cell_type": "code",
      "source": [
        "print ('Escola de Dados da Alura!')"
      ],
      "metadata": {
        "id": "5pllxJ0h0-yA",
        "colab": {
          "base_uri": "https://localhost:8080/"
        },
        "outputId": "14fd672f-9cd5-41ef-9972-2661443193f7"
      },
      "execution_count": null,
      "outputs": [
        {
          "output_type": "stream",
          "name": "stdout",
          "text": [
            "Escola de Dados da Alura\n"
          ]
        }
      ]
    },
    {
      "cell_type": "markdown",
      "source": [
        "### Questão 2\n",
        "Imprima na tela seu nome e seu sobrenome seguindo a estrutura abaixo:\n",
        "```\n",
        "Nome: [seu nome]\n",
        "Sobrenome: [seu sobrenome]\n",
        "```\n"
      ],
      "metadata": {
        "id": "tQdX90Ue03c7"
      }
    },
    {
      "cell_type": "code",
      "source": [
        "nome = \"Henrique\"\n",
        "sobrenome = \"Albanez\"\n",
        "print (f'Nome: {nome}\\nSobrenome: {sobrenome}')"
      ],
      "metadata": {
        "id": "RVw5iKn20_Ps",
        "colab": {
          "base_uri": "https://localhost:8080/"
        },
        "outputId": "d609a409-44a9-4b62-f8d7-e495ddabf4cd"
      },
      "execution_count": null,
      "outputs": [
        {
          "output_type": "stream",
          "name": "stdout",
          "text": [
            "Nome: Henrique\n",
            "Sobrenome: Albanez\n"
          ]
        }
      ]
    },
    {
      "cell_type": "markdown",
      "source": [
        "### Questão 3\n",
        "Imprima o seu primeiro nome letra a letra. Por exemplo, nome é Mirla, então eu obtenho a seguinte saída:\n",
        "```\n",
        "M\n",
        "I\n",
        "R\n",
        "L\n",
        "A\n",
        "```\n"
      ],
      "metadata": {
        "id": "gfg-aiip03vC"
      }
    },
    {
      "cell_type": "code",
      "source": [
        "nome = \"Henrique\"\n",
        "for i in nome:\n",
        "  print (i.upper())"
      ],
      "metadata": {
        "id": "v5bkrgf60_qx",
        "colab": {
          "base_uri": "https://localhost:8080/"
        },
        "outputId": "651cc539-446b-4569-af0b-c6a7b9cd1610"
      },
      "execution_count": null,
      "outputs": [
        {
          "output_type": "stream",
          "name": "stdout",
          "text": [
            "H\n",
            "E\n",
            "N\n",
            "R\n",
            "I\n",
            "Q\n",
            "U\n",
            "E\n"
          ]
        }
      ]
    },
    {
      "cell_type": "markdown",
      "source": [
        "### Questão 4\n",
        "Imprima o dia do seu nascimento em formato `dia mês ano`. Os valores de dia e ano não podem estar entre aspas. O formato deve estar como no exemplo, supondo uma data de aniversário dia 28 de fevereiro de 2003:\n",
        "```\n",
        "28 fevereiro 2003\n",
        "```"
      ],
      "metadata": {
        "id": "oadrJbl704MM"
      }
    },
    {
      "cell_type": "code",
      "source": [
        "data_nasc = '05 de março de 2004'\n",
        "dia = data_nasc[0:2]\n",
        "mes = data_nasc[6:-8]\n",
        "ano = data_nasc[-4:]\n",
        "print (f'{dia} {mes} {ano}')"
      ],
      "metadata": {
        "id": "cx0KSsrq1ALD",
        "colab": {
          "base_uri": "https://localhost:8080/"
        },
        "outputId": "0041a1c7-bc27-4f29-a8de-f04c317c5807"
      },
      "execution_count": null,
      "outputs": [
        {
          "output_type": "stream",
          "name": "stdout",
          "text": [
            "05 março 2004\n"
          ]
        }
      ]
    },
    {
      "cell_type": "markdown",
      "source": [
        "### Questão 5\n",
        "Imprima em um único print o atual ano que você está fazendo esse curso, o valor do ano deve ser um dado numérico. A saída do print deve ser a seguinte:\n",
        "```\n",
        "Ano atual: [ano]\n",
        "```\n"
      ],
      "metadata": {
        "id": "3RgyMaan04TD"
      }
    },
    {
      "cell_type": "code",
      "execution_count": null,
      "metadata": {
        "id": "UN77EfQ2d36Y",
        "colab": {
          "base_uri": "https://localhost:8080/"
        },
        "outputId": "c8d4980b-553e-41dc-e5e4-5dd0e87cedf6"
      },
      "outputs": [
        {
          "output_type": "stream",
          "name": "stdout",
          "text": [
            "Ano atual: 2024\n"
          ]
        }
      ],
      "source": [
        "ano = 2024\n",
        "print (f\"Ano atual: {ano}\")"
      ]
    },
    {
      "cell_type": "markdown",
      "source": [
        "## Aula 2 - Manipulando dados no Python ✅"
      ],
      "metadata": {
        "id": "D9e3FqhO1S3X"
      }
    },
    {
      "cell_type": "markdown",
      "source": [
        "### Coleta e amostragem de dados"
      ],
      "metadata": {
        "id": "n6o7C1Ze2cRe"
      }
    },
    {
      "cell_type": "markdown",
      "source": [
        "#### Questão 1\n",
        "Crie um programa que solicite à pessoa usuária digitar seu nome, e imprima “Olá, [nome]!”."
      ],
      "metadata": {
        "id": "sRneWag9PV5Q"
      }
    },
    {
      "cell_type": "code",
      "source": [
        "nome = input (\"Digite seu nome: \")\n",
        "print (f'Olá, {nome}!')"
      ],
      "metadata": {
        "id": "dbX1fKqy2HnE",
        "colab": {
          "base_uri": "https://localhost:8080/"
        },
        "outputId": "5096bae3-0949-4999-98df-8e9a1be317b1"
      },
      "execution_count": null,
      "outputs": [
        {
          "output_type": "stream",
          "name": "stdout",
          "text": [
            "Digite seu nome:Henrique\n",
            "Olá, Henrique!\n"
          ]
        }
      ]
    },
    {
      "cell_type": "markdown",
      "source": [
        "#### Questão 2\n",
        "Crie um programa que solicite à pessoa usuária digitar seu nome e idade, e imprima “Olá, [nome], você tem [idade] anos.”."
      ],
      "metadata": {
        "id": "BJ1SznEp70d5"
      }
    },
    {
      "cell_type": "code",
      "source": [
        "nome = input (\"Digite seu nome: \")\n",
        "idade = int(input (\"Digite sua idade: \"))\n",
        "print (f'Olá, {nome}, você tem {idade} anos.')"
      ],
      "metadata": {
        "id": "jKz-0Sq8PFkp",
        "colab": {
          "base_uri": "https://localhost:8080/"
        },
        "outputId": "8b414233-a076-42bb-fac6-48fc553bac92"
      },
      "execution_count": null,
      "outputs": [
        {
          "output_type": "stream",
          "name": "stdout",
          "text": [
            "Digite seu nome: Henrique\n",
            "Digite sua idade: 20\n",
            "Olá, Henrique, você tem 20 anos.\n"
          ]
        }
      ]
    },
    {
      "cell_type": "markdown",
      "source": [
        "#### Questão 3\n",
        "Crie um programa que solicite à pessoa usuária digitar seu nome, idade e altura em metros, e imprima “Olá, [nome], você tem [idade] anos e mede [altura] metros!”."
      ],
      "metadata": {
        "id": "2T0jNYZt70aa"
      }
    },
    {
      "cell_type": "code",
      "source": [
        "nome = input (\"Digite seu nome: \")\n",
        "idade = int(input (\"Digite sua idade: \"))\n",
        "altura = float(input(\"Digite sua altura (em metros): \"))\n",
        "print (f'Olá, {nome}, você tem {idade} anos e mede {altura}m!')"
      ],
      "metadata": {
        "id": "pI4kHNzTPIXh",
        "colab": {
          "base_uri": "https://localhost:8080/"
        },
        "outputId": "b4a72872-e33a-4290-83d4-91c735dade30"
      },
      "execution_count": null,
      "outputs": [
        {
          "output_type": "stream",
          "name": "stdout",
          "text": [
            "Digite seu nome: Henrique\n",
            "Digite sua idade: 20\n",
            "Digite sua altura (em metros): 1.83\n",
            "Olá, Henrique, você tem 20 anos e mede 1.83m!\n"
          ]
        }
      ]
    },
    {
      "cell_type": "markdown",
      "source": [
        "### Calculadora com operadores"
      ],
      "metadata": {
        "id": "mEBFwKkC70KP"
      }
    },
    {
      "cell_type": "markdown",
      "source": [
        "#### Questão 1\n",
        "\n",
        "Crie um programa que solicite dois valores numéricos à pessoa usuária e imprima a soma dos dois valores."
      ],
      "metadata": {
        "id": "H-IV1oAPPSqK"
      }
    },
    {
      "cell_type": "code",
      "source": [
        "x = float(input(\"Digite um valor númerico: \"))\n",
        "y = float(input(\"Digite um segundo valor númerico: \"))\n",
        "soma = x + y\n",
        "print (f\"Soma: {soma}\")"
      ],
      "metadata": {
        "id": "Zb0W84sy8rnp",
        "colab": {
          "base_uri": "https://localhost:8080/"
        },
        "outputId": "a3ec0c7b-b72b-4464-d4d0-cdbc77c0c110"
      },
      "execution_count": null,
      "outputs": [
        {
          "output_type": "stream",
          "name": "stdout",
          "text": [
            "Digite um valor númerico: 0.76\n",
            "Digite um segundo valor númerico: 2\n",
            "Soma: 2.76\n"
          ]
        }
      ]
    },
    {
      "cell_type": "markdown",
      "source": [
        "#### Questão 2\n",
        "Crie um programa que solicite três valores numéricos à pessoa usuária e imprima a soma dos três valores."
      ],
      "metadata": {
        "id": "LUoi2MOu70Em"
      }
    },
    {
      "cell_type": "code",
      "source": [
        "valores = input(\"Digite três valores numéricos separados por um espaço:\")\n",
        "x, y, z = valores.split()\n",
        "x = float(x)\n",
        "y = float(y)\n",
        "z = float(z)\n",
        "soma = x + y + z\n",
        "print (soma)"
      ],
      "metadata": {
        "id": "4FYjWyBS8rDm",
        "colab": {
          "base_uri": "https://localhost:8080/"
        },
        "outputId": "bbe8abd8-e678-4b43-f122-cbdba1f57320"
      },
      "execution_count": null,
      "outputs": [
        {
          "output_type": "stream",
          "name": "stdout",
          "text": [
            "Digite três valores numéricos separados por um espaço:1.2 2.5 1.8\n",
            "5.5\n"
          ]
        }
      ]
    },
    {
      "cell_type": "markdown",
      "source": [
        "#### Questão 3\n",
        "Crie um programa que solicite dois valores numéricos à pessoa usuária e imprima a subtração do primeiro pelo o segundo valor."
      ],
      "metadata": {
        "id": "lezGctF07z8i"
      }
    },
    {
      "cell_type": "code",
      "source": [
        "x = float(input(\"Digite um valor númerico: \"))\n",
        "y = float(input(\"Digite um segundo valor númerico: \"))\n",
        "sub = x - y\n",
        "print (f\"Diferença: {sub}\")"
      ],
      "metadata": {
        "id": "k0GE1z4w8p3J",
        "colab": {
          "base_uri": "https://localhost:8080/"
        },
        "outputId": "4fdba24f-10aa-4822-f188-b8e1ce109ef3"
      },
      "execution_count": null,
      "outputs": [
        {
          "output_type": "stream",
          "name": "stdout",
          "text": [
            "Digite um valor númerico: 10 \n",
            "Digite um segundo valor númerico: 15\n",
            "Diferença: -5.0\n"
          ]
        }
      ]
    },
    {
      "cell_type": "markdown",
      "source": [
        "#### Questão 4\n",
        "\n",
        "Crie um programa que solicite dois valores numéricos à pessoa usuária e imprima a multiplicação dos dois valores.\n"
      ],
      "metadata": {
        "id": "wwMP-dPU7zxW"
      }
    },
    {
      "cell_type": "code",
      "source": [
        "x = float(input(\"Digite um valor númerico: \"))\n",
        "y = float(input(\"Digite um segundo valor númerico: \"))\n",
        "mul = x * y\n",
        "print (f\"Multiplicação: {mul}\")"
      ],
      "metadata": {
        "id": "GzFCVHfp8peZ",
        "colab": {
          "base_uri": "https://localhost:8080/"
        },
        "outputId": "2f86d390-f0ea-429e-ce78-788d861f12fb"
      },
      "execution_count": null,
      "outputs": [
        {
          "output_type": "stream",
          "name": "stdout",
          "text": [
            "Digite um valor númerico: 2\n",
            "Digite um segundo valor númerico: 3\n",
            "Multiplicação: 6.0\n"
          ]
        }
      ]
    },
    {
      "cell_type": "markdown",
      "source": [
        "#### Questão 5\n",
        "\n",
        "Crie um programa que solicite dois valores numéricos, um numerador e um denominador, e realize a divisão entre os dois valores. Deixe claro que o valor do denominador não pode ser `0`.\n"
      ],
      "metadata": {
        "id": "9kxyHxUo7zRD"
      }
    },
    {
      "cell_type": "code",
      "source": [
        "num = int(input('Digite o numerador: '))\n",
        "den = int(input('Digite o denominador (OBS: o valor não pode ser nulo): '))\n",
        "print(num/den)"
      ],
      "metadata": {
        "id": "ytJ8l5KH8ozc"
      },
      "execution_count": null,
      "outputs": []
    },
    {
      "cell_type": "markdown",
      "source": [
        "#### Questão 6\n",
        "\n",
        "Crie um programa que solicite dois valores numéricos, um operador e uma potência, e realize a exponenciação entre esses dois valores.\n"
      ],
      "metadata": {
        "id": "zkUSBTQq8Hxt"
      }
    },
    {
      "cell_type": "code",
      "source": [
        "operador = int(input('Digite o operador valor: '))\n",
        "potencia = int(input('Digite a potência valor: '))\n",
        "print(operador**potencia)"
      ],
      "metadata": {
        "id": "RPj36jq08oZp"
      },
      "execution_count": null,
      "outputs": []
    },
    {
      "cell_type": "markdown",
      "source": [
        "#### Questão 7\n",
        "Crie um programa que solicite dois valores numéricos, um numerador e um denominador e realize a divisão inteira entre os dois valores. Deixe claro que o valor do denominador não pode ser `0`."
      ],
      "metadata": {
        "id": "yiunIusZ8Huj"
      }
    },
    {
      "cell_type": "code",
      "source": [
        "num = int(input('Digite o numerador: '))\n",
        "den = int(input('Digite o denominador (OBS: o valor não pode ser nulo): '))\n",
        "print(num//den)\n",
        "\n",
        "# \"//\" é usado para fazer divisão inteira, ou seja, com um resultado sem casas decimais após a vírgula"
      ],
      "metadata": {
        "id": "UHK8xITf8oCg",
        "colab": {
          "base_uri": "https://localhost:8080/"
        },
        "outputId": "d4837cf0-1b99-4228-a9be-9e8b5077fd53"
      },
      "execution_count": null,
      "outputs": [
        {
          "output_type": "stream",
          "name": "stdout",
          "text": [
            "Digite o numerador: 10\n",
            "Digite o denominador (OBS: o valor não pode ser nulo): 4\n",
            "2\n"
          ]
        }
      ]
    },
    {
      "cell_type": "markdown",
      "source": [
        "#### Questão 8\n",
        "\n",
        "Crie um programa que solicite dois valores numéricos, um numerador e um denominador, e retorne o resto da divisão entre os dois valores. Deixe claro que o valor do denominador não pode ser `0`."
      ],
      "metadata": {
        "id": "z_D_JiLX8Hra"
      }
    },
    {
      "cell_type": "code",
      "source": [
        "num = int(input('Digite o numerador: '))\n",
        "den = int(input('Digite o denominador (OBS: o valor não pode ser nulo): '))\n",
        "print(num%den)\n",
        "\n",
        "# \"%\" indica o resto da operação de divisão entre numerador e denominador"
      ],
      "metadata": {
        "id": "EWGJeukO8nqx",
        "colab": {
          "base_uri": "https://localhost:8080/"
        },
        "outputId": "b916d85c-f06a-48d7-f9d7-0c4578846da8"
      },
      "execution_count": null,
      "outputs": [
        {
          "output_type": "stream",
          "name": "stdout",
          "text": [
            "Digite o numerador: 15\n",
            "Digite o denominador (OBS: o valor não pode ser nulo): 4\n",
            "3\n"
          ]
        }
      ]
    },
    {
      "cell_type": "markdown",
      "source": [
        "#### Questão 9\n",
        "\n",
        "Crie um código que solicita 3 notas de um estudante e imprima a média das notas."
      ],
      "metadata": {
        "id": "RDRajNkU8N8N"
      }
    },
    {
      "cell_type": "code",
      "source": [
        "nota_1 = float(input('Digite a 1° nota: '))\n",
        "nota_2 = float(input('Digite a 2° nota: '))\n",
        "nota_3 = float(input('Digite a 3° nota: '))\n",
        "print(f'Média {(nota_1+nota_2+nota_3)/3}.')"
      ],
      "metadata": {
        "id": "H6F4Ojzt8nSR"
      },
      "execution_count": null,
      "outputs": []
    },
    {
      "cell_type": "markdown",
      "source": [
        "#### Questão 10\n",
        "\n",
        "Crie um código que calcule e imprima a média ponderada dos números 5, 12, 20 e 15 com pesos respectivamente iguais a 1, 2, 3 e 4."
      ],
      "metadata": {
        "id": "d7fjkne58N21"
      }
    },
    {
      "cell_type": "code",
      "source": [
        "media_ponderada = (5*1 + 12*2 + 20*3 + 15*4) / (1+2+3+4)\n",
        "print(f'Média {media_ponderada}.')"
      ],
      "metadata": {
        "id": "fwjoHlV48mkv"
      },
      "execution_count": null,
      "outputs": []
    },
    {
      "cell_type": "markdown",
      "source": [
        "### Editando textos"
      ],
      "metadata": {
        "id": "GNmbX1OU8N0V"
      }
    },
    {
      "cell_type": "markdown",
      "source": [
        "#### Questão 1\n",
        "\n",
        "Crie uma variável chamada “`frase`” e atribua a ela uma string de sua escolha. Em seguida, imprima a frase na tela."
      ],
      "metadata": {
        "id": "6wZ85mCsRCV0"
      }
    },
    {
      "cell_type": "code",
      "source": [
        "frase = 'Flaco López é matador!'\n",
        "print (frase)"
      ],
      "metadata": {
        "id": "eRqr_gh-8mFy",
        "colab": {
          "base_uri": "https://localhost:8080/"
        },
        "outputId": "eee1f3ad-5221-4f21-8e2c-595e2b52c3cb"
      },
      "execution_count": null,
      "outputs": [
        {
          "output_type": "stream",
          "name": "stdout",
          "text": [
            "Flaco López é matador\n"
          ]
        }
      ]
    },
    {
      "cell_type": "markdown",
      "source": [
        "#### Questão 2\n",
        "Crie um código que solicite uma frase e depois imprima a frase na tela."
      ],
      "metadata": {
        "id": "Aac17z-18Nwv"
      }
    },
    {
      "cell_type": "code",
      "source": [
        "frase = input (\"Escreva uma frase: \")\n",
        "print (frase)"
      ],
      "metadata": {
        "id": "8zfE2hh98lb0"
      },
      "execution_count": null,
      "outputs": []
    },
    {
      "cell_type": "markdown",
      "source": [
        "#### Questão 3\n",
        "\n",
        "Crie um código que solicite uma frase à pessoa usuária e imprima a mesma frase digitada mas com todas as letras maiúsculas."
      ],
      "metadata": {
        "id": "DXVzqpN58Ntr"
      }
    },
    {
      "cell_type": "code",
      "source": [
        "frase = input (\"Escreva uma frase: \")\n",
        "print (frase. upper())"
      ],
      "metadata": {
        "id": "d0VzoYP68k-I",
        "colab": {
          "base_uri": "https://localhost:8080/"
        },
        "outputId": "8b4e6ae8-4500-40f5-8061-33aa23f32d05"
      },
      "execution_count": null,
      "outputs": [
        {
          "output_type": "stream",
          "name": "stdout",
          "text": [
            "Escreva uma frase: Flaco \n",
            "FLACO \n"
          ]
        }
      ]
    },
    {
      "cell_type": "markdown",
      "source": [
        "#### Questão 4\n",
        "\n",
        "Crie um código que solicite uma frase à pessoa usuária e imprima a mesma frase digitada mas com todas as letras minúsculas."
      ],
      "metadata": {
        "id": "I12VeNPK8Nqb"
      }
    },
    {
      "cell_type": "code",
      "source": [
        "frase = input (\"Escreva uma frase: \")\n",
        "print (frase. lower())"
      ],
      "metadata": {
        "id": "KD8rNy2K8kox"
      },
      "execution_count": null,
      "outputs": []
    },
    {
      "cell_type": "markdown",
      "source": [
        "#### Questão 5\n",
        "\n",
        "Crie uma variável chamada “`frase`” e atribua a ela uma string de sua escolha. Em seguida, imprima a frase sem espaços em branco no início e no fim."
      ],
      "metadata": {
        "id": "cRqngSE48Nog"
      }
    },
    {
      "cell_type": "code",
      "source": [
        "frase = '   Flaco López é matador!    '\n",
        "print (frase.strip())"
      ],
      "metadata": {
        "id": "aSCpdF-o8kBs",
        "colab": {
          "base_uri": "https://localhost:8080/"
        },
        "outputId": "7b8bdb5a-8df2-456b-e4d0-2f0170ba6761"
      },
      "execution_count": null,
      "outputs": [
        {
          "output_type": "stream",
          "name": "stdout",
          "text": [
            "Flaco López é matador!\n"
          ]
        }
      ]
    },
    {
      "cell_type": "markdown",
      "source": [
        "#### Questão 6\n",
        "\n",
        "Crie um código que solicite uma frase à pessoa usuária e imprima a mesma frase sem espaços em branco no início e no fim."
      ],
      "metadata": {
        "id": "murIazpQ8Nkv"
      }
    },
    {
      "cell_type": "code",
      "source": [
        "frase = input (\"Escreva uma frase: \")\n",
        "print (frase.strip())"
      ],
      "metadata": {
        "id": "tHunjwuG8jNq"
      },
      "execution_count": null,
      "outputs": []
    },
    {
      "cell_type": "markdown",
      "source": [
        "#### Questão 7\n",
        "\n",
        "\n",
        "Crie um código que solicite uma frase à pessoa usuária e imprima a mesma frase sem espaços em branco no início e no fim e em letras minúsculas."
      ],
      "metadata": {
        "id": "eRxc2OeX8Nh2"
      }
    },
    {
      "cell_type": "code",
      "source": [
        "frase = input (\"Escreva uma frase: \")\n",
        "print (frase.strip().lower())"
      ],
      "metadata": {
        "id": "DYm0_UwS8ih6"
      },
      "execution_count": null,
      "outputs": []
    },
    {
      "cell_type": "markdown",
      "source": [
        "#### Questão 8\n",
        "\n",
        "Crie um código que solicite uma frase à pessoa usuária e imprima a mesma frase com todas as vogais “`e`” trocadas pela letra “`f`”."
      ],
      "metadata": {
        "id": "UKATLavs8NfI"
      }
    },
    {
      "cell_type": "code",
      "source": [
        "frase = input (\"Escreva uma frase: \")\n",
        "print (frase.replace('e', 'f'))"
      ],
      "metadata": {
        "id": "k64C5G5S8iLO",
        "colab": {
          "base_uri": "https://localhost:8080/"
        },
        "outputId": "00e25895-813d-4643-a3d9-781bbcab422b"
      },
      "execution_count": null,
      "outputs": [
        {
          "output_type": "stream",
          "name": "stdout",
          "text": [
            "Escreva uma frase: eu sei, é dificil, eu sei\n",
            "fu sfi, é dificil, fu sfi\n"
          ]
        }
      ]
    },
    {
      "cell_type": "markdown",
      "source": [
        "#### Questão 9\n",
        "\n",
        "\n",
        "Crie um código que solicite uma frase à pessoa usuária e imprima a mesma frase com todas as vogais “`a`” trocadas pela caractere  “`@`”."
      ],
      "metadata": {
        "id": "n_1SPchw8NdG"
      }
    },
    {
      "cell_type": "code",
      "source": [
        "frase = input (\"Escreva uma frase: \")\n",
        "print (frase.replace('a', '@'))"
      ],
      "metadata": {
        "id": "msaDNm_p8h0D",
        "colab": {
          "base_uri": "https://localhost:8080/"
        },
        "outputId": "fb7f2805-d81a-469c-94bd-2d17a170c23e"
      },
      "execution_count": null,
      "outputs": [
        {
          "output_type": "stream",
          "name": "stdout",
          "text": [
            "Escreva uma frase: amiga, tô aqui\n",
            "@mig@, tô @qui\n"
          ]
        }
      ]
    },
    {
      "cell_type": "markdown",
      "source": [
        "#### Questão 10\n",
        "\n",
        "\n",
        "Crie um código que solicite uma frase à pessoa usuária e imprima a mesma frase com todas as consoantes “`s`” trocadas pelo caractere  “`$`”."
      ],
      "metadata": {
        "id": "H3sTTjqI8Naa"
      }
    },
    {
      "cell_type": "code",
      "source": [
        "frase = input (\"Escreva uma frase: \")\n",
        "print (frase.replace('s', '$'))"
      ],
      "metadata": {
        "id": "RPBIsWT68e-1",
        "colab": {
          "base_uri": "https://localhost:8080/"
        },
        "outputId": "8642af9b-ab61-4250-95ba-ca6863491d97"
      },
      "execution_count": null,
      "outputs": [
        {
          "output_type": "stream",
          "name": "stdout",
          "text": [
            "Escreva uma frase: sassalotelli é do santos\n",
            "$a$$alotelli é do $anto$\n"
          ]
        }
      ]
    },
    {
      "cell_type": "markdown",
      "source": [
        "## Aula 3 - Estruturas condicionais ✅"
      ],
      "metadata": {
        "id": "XGePe4GD2I59"
      }
    },
    {
      "cell_type": "markdown",
      "source": [
        "### Aquecendo na programação"
      ],
      "metadata": {
        "id": "Pr9HTW0UHCdD"
      }
    },
    {
      "cell_type": "markdown",
      "source": [
        "#### Questão 1\n",
        "Escreva um programa que peça à pessoa usuária para fornecer dois números e exibir o número maior."
      ],
      "metadata": {
        "id": "xBZHqhVg80Fy"
      }
    },
    {
      "cell_type": "code",
      "source": [
        "x = float(input(\"Digite um número: \"))\n",
        "y = float(input(\"Digite um segundo número: \"))\n",
        "if x > y:\n",
        "  print(x)\n",
        "elif y > x:\n",
        "  print(y)\n",
        "else:\n",
        "  print (f'Os dois números são iguais.')"
      ],
      "metadata": {
        "id": "GJlGnzjc-xyF",
        "colab": {
          "base_uri": "https://localhost:8080/"
        },
        "outputId": "0b8ac124-8e70-4811-9416-7e57ee623db8"
      },
      "execution_count": null,
      "outputs": [
        {
          "output_type": "stream",
          "name": "stdout",
          "text": [
            "Digite um número: 11\n",
            "Digite um segundo número: 11\n",
            "Os dois números são iguais.\n"
          ]
        }
      ]
    },
    {
      "cell_type": "markdown",
      "source": [
        "#### Questão 2\n",
        "Escreva um programa que solicite o percentual de crescimento de produção de uma empresa e informe se houve um crescimento (porcentagem positiva) ou decrescimento (porcentagem negativa)."
      ],
      "metadata": {
        "id": "H4sgN7dyHNJF"
      }
    },
    {
      "cell_type": "code",
      "source": [
        "variacao = float(input('Digite o percentual de crescimento de produção da empresa: '))\n",
        "if variacao > 0:\n",
        "    print(f'Houve um crescimento de {variacao}%')\n",
        "elif variacao < 0:\n",
        "    print(f'Houve um decrescimento de {variacao}%')\n",
        "else:\n",
        "    print('Não houve crescimento ou decrescimento.')\n"
      ],
      "metadata": {
        "id": "-2_Ry5XJ-yZW",
        "colab": {
          "base_uri": "https://localhost:8080/"
        },
        "outputId": "099cc151-0841-4c25-9149-8242b278a063"
      },
      "execution_count": null,
      "outputs": [
        {
          "output_type": "stream",
          "name": "stdout",
          "text": [
            "Digite o percentual de crescimento de produção da empresa: -45.8\n",
            "Houve um decrescimento de -45.8%\n"
          ]
        }
      ]
    },
    {
      "cell_type": "markdown",
      "source": [
        "#### Questão 3\n",
        "Escreva um programa que determine se uma letra fornecida pela pessoa usuária é uma vogal ou consoante."
      ],
      "metadata": {
        "id": "a_mzNOBDHNny"
      }
    },
    {
      "cell_type": "code",
      "source": [
        "letra = input(\"Digite uma letra: \").lower()\n",
        "vogais = 'aeiou'\n",
        "if letra in vogais:\n",
        "  print(f'{letra} é uma vogal.')\n",
        "else:\n",
        "  print (f'{letra} é uma consoante.')\n"
      ],
      "metadata": {
        "id": "NbgndVyg-zFJ",
        "colab": {
          "base_uri": "https://localhost:8080/"
        },
        "outputId": "4839e081-a42f-4ee8-873a-69518e042ced"
      },
      "execution_count": null,
      "outputs": [
        {
          "output_type": "stream",
          "name": "stdout",
          "text": [
            "Digite uma letra: 809\n",
            "809 é uma consoante.\n"
          ]
        }
      ]
    },
    {
      "cell_type": "markdown",
      "source": [
        "#### Questão 4\n",
        "Escreva um programa que leia valores médios de preços de um modelo de carro por 3 anos consecutivos e exiba o valor mais alto e mais baixo entre esses três anos."
      ],
      "metadata": {
        "id": "mofMRjSZHP99"
      }
    },
    {
      "cell_type": "code",
      "source": [
        "preco_ano1 = float(input('Informe o preço médio do carro no primeiro ano: '))\n",
        "preco_ano2 = float(input('Informe o preço médio do carro no segundo ano: '))\n",
        "preco_ano3 = float(input('Informe o preço médio do carro no terceiro ano: '))\n",
        "maior = preco_ano1\n",
        "if preco_ano2 > maior:\n",
        "  maior = preco_ano2\n",
        "if preco_ano3 > maior:\n",
        "  maior = preco_ano3\n",
        "menor = preco_ano1\n",
        "if preco_ano2 < menor:\n",
        "  menor = preco_ano2\n",
        "if preco_ano3 < menor:\n",
        "  menor = preco_ano3\n",
        "print('O preço mais alto foi de R$ %.2f.'%(maior))\n",
        "print('O preço mais baixo foi de R$ %.2f.'%(menor))"
      ],
      "metadata": {
        "id": "TX--d3k9-02c",
        "colab": {
          "base_uri": "https://localhost:8080/"
        },
        "outputId": "8c4a4fc5-3936-4c16-d3dc-a5bc7d7784fb"
      },
      "execution_count": null,
      "outputs": [
        {
          "output_type": "stream",
          "name": "stdout",
          "text": [
            "Informe o preço médio do carro no primeiro ano: 30\n",
            "Informe o preço médio do carro no segundo ano: 23\n",
            "Informe o preço médio do carro no terceiro ano: 25\n",
            "O preço mais alto foi de R$ 30.00.\n",
            "O preço mais baixo foi de R$ 23.00.\n"
          ]
        }
      ]
    },
    {
      "cell_type": "markdown",
      "source": [
        "#### Questão 5\n",
        "Escreva um programa que pergunte sobre o preço de três produtos e indique qual é o produto mais barato para comprar."
      ],
      "metadata": {
        "id": "jY5tIwd-HQzc"
      }
    },
    {
      "cell_type": "code",
      "source": [
        "# Coletamos os preços dos três produtos\n",
        "p1 = float(input('Digite o preço do primeiro produto: '))\n",
        "p2 = float(input('Digite o preço do segundo produto: '))\n",
        "p3 = float(input('Digite o preço do terceiro produto: '))\n",
        "\n",
        "# Verificamos qual produto é o mais barato usando o operador lógico 'and'\n",
        "if p1 < p2 and p1 < p3:\n",
        "    print('O primeiro produto é o mais barato.')\n",
        "elif p2 < p1 and p2 < p3:\n",
        "    print('O segundo produto é o mais barato.')\n",
        "elif p3 < p1 and p3 < p2:\n",
        "    print('O terceiro produto é o mais barato.')\n",
        "elif p1 == p2 == p3:\n",
        "    print('Os produtos possuem o mesmo preço.')\n",
        "else:\n",
        "    # Identificamos quais produtos possuem o mesmo preço, se for o caso\n",
        "    if p1 == p2:\n",
        "        print('O primeiro e o segundo produtos são os mais baratos.')\n",
        "    elif p2 == p3:\n",
        "        print('O segundo e terceiro produtos são os mais baratos.')\n",
        "    elif p1 == p3:\n",
        "        print('O primeiro e o terceiro produtos são os mais baratos.')\n"
      ],
      "metadata": {
        "id": "sYqNh9df-0gk"
      },
      "execution_count": null,
      "outputs": []
    },
    {
      "cell_type": "markdown",
      "source": [
        "#### Questão 6\n",
        "Escreva um programa que leia três números e os exiba em ordem decrescente."
      ],
      "metadata": {
        "id": "1r6aVxtTHR4E"
      }
    },
    {
      "cell_type": "code",
      "source": [
        "v1 = int(input(\"Número 1: \"))\n",
        "v2 = int(input(\"Número 2: \"))\n",
        "v3 = int(input(\"Número 3: \"))\n",
        "if v1 >= v2 and v1 >= v3:\n",
        "  maior = v1\n",
        "if v2 > v1 and v2 >= v3:\n",
        "  maior = v2\n",
        "if v3 > v1 and v3 > v2:\n",
        "  maior = v3\n",
        "if v1 < maior and (v1 >= v2 or v1 >= v3):\n",
        "  medio = v1\n",
        "if v2 < maior and (v2 > v1 or v2 >= v3):\n",
        "  medio = v2\n",
        "if v3 < maior and (v3 > v2 or v3 > v1):\n",
        "  medio = v3\n",
        "if v1 < medio:\n",
        "  menor = v1\n",
        "if v2 < medio or (v2 < v3 and v2 ==v1):\n",
        "  menor = v2\n",
        "if v3 < medio or (v3 == medio and (v3 == v1 or v3 == v2)):\n",
        "  menor = v3\n",
        "print (f\"Números em ordem decrescente: {maior}, {medio}, {menor}\")\n"
      ],
      "metadata": {
        "id": "ydOCYUMO-0Hk",
        "colab": {
          "base_uri": "https://localhost:8080/"
        },
        "outputId": "68f5954c-8df3-460f-9c43-56cb5899427b"
      },
      "execution_count": null,
      "outputs": [
        {
          "output_type": "stream",
          "name": "stdout",
          "text": [
            "Número 1: 15\n",
            "Número 2: 16\n",
            "Número 3: 17\n",
            "Números em ordem decrescente: 17, 16, 15\n"
          ]
        }
      ]
    },
    {
      "cell_type": "markdown",
      "source": [
        "#### Questão 7\n",
        "Escreva um programa que pergunte em qual turno a pessoa usuária estuda (\"manhã\", \"tarde\" ou \"noite\") e exiba a mensagem \"Bom Dia!\", \"Boa Tarde!\", \"Boa Noite!\", ou \"Valor Inválido!\", conforme o caso."
      ],
      "metadata": {
        "id": "inW3F-hAHS_X"
      }
    },
    {
      "cell_type": "code",
      "source": [
        "turno = input(\"Em qual turno você estuda (manhã/tarde/noite)? \").strip().lower()\n",
        "if turno == 'manhã':\n",
        "  print('Bom dia!')\n",
        "elif turno == 'tarde':\n",
        "  print('Boa Tarde!')\n",
        "elif turno == 'noite':\n",
        "  print('Boa Noite!')\n",
        "else:\n",
        "  print('Valor Inválido!')"
      ],
      "metadata": {
        "id": "-_q-Pcr_-zth",
        "colab": {
          "base_uri": "https://localhost:8080/"
        },
        "outputId": "fb523998-ca13-4559-98aa-3dae8a856288"
      },
      "execution_count": null,
      "outputs": [
        {
          "output_type": "stream",
          "name": "stdout",
          "text": [
            "Em qual turno você estuda (manhã/tarde/noite)? manhã\n",
            "Bom dia!\n"
          ]
        }
      ]
    },
    {
      "cell_type": "markdown",
      "source": [
        "#### Questão 8\n",
        "Escreva um programa que peça um número inteiro à pessoa usuária e determine se ele é par ou ímpar. Dica: Você pode utilizar o operador módulo `%`."
      ],
      "metadata": {
        "id": "NCCPF3QqHTw-"
      }
    },
    {
      "cell_type": "code",
      "source": [
        "num = int(input('Digite um número inteiro: '))\n",
        "if num % 2 == 0:\n",
        "  print(f'O número {num} é par!')\n",
        "else:\n",
        "  print (f'O número{num} é impar!')"
      ],
      "metadata": {
        "id": "OmZJt1nQ-3e6",
        "colab": {
          "base_uri": "https://localhost:8080/"
        },
        "outputId": "0ba38716-0e4b-4f00-e889-abf8ab2273b2"
      },
      "execution_count": null,
      "outputs": [
        {
          "output_type": "stream",
          "name": "stdout",
          "text": [
            "Digite um número inteiro: 0\n",
            "O número 0 é par!\n"
          ]
        }
      ]
    },
    {
      "cell_type": "markdown",
      "source": [
        "#### Questão 9\n",
        "Escreva um programa que peça um número à pessoa usuária e informe se ele é inteiro ou decimal."
      ],
      "metadata": {
        "id": "h93Ck1tQHUwE"
      }
    },
    {
      "cell_type": "code",
      "source": [
        "num = float(input('Digite um número: '))\n",
        "if num // 1 == num:\n",
        "  num = int(num)\n",
        "  print (f'{num} é um número inteiro')\n",
        "else:\n",
        "  print (f'{num} é um número decimal')"
      ],
      "metadata": {
        "id": "sLMlZcx8-20N",
        "colab": {
          "base_uri": "https://localhost:8080/"
        },
        "outputId": "eea155c8-1ab3-4803-a9c5-cdf80c9c686a"
      },
      "execution_count": null,
      "outputs": [
        {
          "output_type": "stream",
          "name": "stdout",
          "text": [
            "Digite um número: 2\n",
            "2 é um número inteiro\n"
          ]
        }
      ]
    },
    {
      "cell_type": "markdown",
      "source": [
        "### Momento dos projetos"
      ],
      "metadata": {
        "id": "bKdXSK1SH_pF"
      }
    },
    {
      "cell_type": "markdown",
      "source": [
        "#### Questão 10\n",
        "Um programa deve ser escrito para ler dois números e, em seguida, perguntar à pessoa usuária qual operação ele deseja realizar. O resultado da operação deve incluir informações sobre o número - se é par ou ímpar, positivo ou negativo e inteiro ou decimal."
      ],
      "metadata": {
        "id": "WBlEyyzsHV86"
      }
    },
    {
      "cell_type": "code",
      "source": [
        "num1 = float(input('Digite um número: '))\n",
        "num2 = float (input('Digite um segundo número: '))\n",
        "op = input('Digite qual operação você quer realizar (+,-,*,/): ')\n",
        "if op == '+':\n",
        "    resultado = num1 + num2\n",
        "elif op == '-':\n",
        "    resultado = num1 - num2\n",
        "elif op == '*':\n",
        "    resultado = num1 * num2\n",
        "elif op == '/':\n",
        "    resultado = num1 / num2\n",
        "else:\n",
        "    print('Operação inválida, resultado da operação será 0')\n",
        "    resultado = 0\n",
        "if resultado % 2 == 0:\n",
        "    parouimpar = 'par'\n",
        "else:\n",
        "    parouimpar = 'ímpar'\n",
        "if resultado > 0:\n",
        "    posouneg = 'positivo'\n",
        "elif resultado < 0:\n",
        "    posouneg = 'negativo'\n",
        "else:\n",
        "    posouneg = 'nulo'\n",
        "if resultado // 1 == resultado:\n",
        "    resultado = int(resultado)\n",
        "    intoudec = 'inteiro'\n",
        "else:\n",
        "    intoudec = 'decimal'\n",
        "print (f'{num1} {op} {num2} = {resultado}\\n{resultado} é {parouimpar}, {posouneg} e {intoudec}.')\n"
      ],
      "metadata": {
        "id": "3jmahZ0f-2gq",
        "colab": {
          "base_uri": "https://localhost:8080/"
        },
        "outputId": "67cc573d-3d2a-475e-8877-fd3b156691bb"
      },
      "execution_count": null,
      "outputs": [
        {
          "output_type": "stream",
          "name": "stdout",
          "text": [
            "Digite um número: 1.7\n",
            "Digite um segundo número: 19.4\n",
            "Digite qual operação você quer realizar (+,-,*,/): *\n",
            "1.7 * 19.4 = 32.98\n",
            "32.98 é ímpar, positivo e decimal.\n"
          ]
        }
      ]
    },
    {
      "cell_type": "markdown",
      "source": [
        "#### Questão 11\n",
        "Escreva um programa que peça à pessoa usuária três números que representam os lados de um triângulo. O programa deve informar se os valores podem ser utilizados para formar um triângulo e, caso afirmativo, se ele é equilátero, isósceles ou escaleno. Tenha em mente algumas dicas:\n",
        "- Três lados formam um triângulo quando a soma de quaisquer dois lados for maior que o terceiro;\n",
        "- Triângulo Equilátero: três lados iguais;\n",
        "- Triângulo Isósceles: quaisquer dois lados iguais;\n",
        "- Triângulo Escaleno: três lados diferentes;\n"
      ],
      "metadata": {
        "id": "VdnlULxHHW19"
      }
    },
    {
      "cell_type": "code",
      "source": [
        "medidas = input('Digite as medidas dos três lados do triângulo (x, y, z): ')\n",
        "l1, l2, l3 = medidas.split(', ')\n",
        "l1 = float(l1)\n",
        "l2 = float(l2)\n",
        "l3 = float(l3)\n",
        "if l1 < l2 + l3 and l2 < l1 + l3 and l3 < l1 + l2:\n",
        "  if l1 == l2 == l3:\n",
        "    print('Pode se formar um triângulo equilátero.')\n",
        "  if l1 == l2 != l3 or l1 == l3 != l2 or l2 == l3 != l1:\n",
        "    print('Pode se formar um triângulo isósceles.')\n",
        "  if l1 != l2 != l3:\n",
        "    print('Pode se formar um triângulo escaleno.')\n",
        "else:\n",
        "  print ('Não se pode formar um triângulo com essas medidas.')"
      ],
      "metadata": {
        "id": "0z73sqUO-2Pw",
        "colab": {
          "base_uri": "https://localhost:8080/"
        },
        "outputId": "47fb1204-0c62-4bdb-9367-0a02ef3dbb22"
      },
      "execution_count": null,
      "outputs": [
        {
          "output_type": "stream",
          "name": "stdout",
          "text": [
            "Digite as medidas dos três lados do triângulo (x, y, z): 1, 2, 2\n",
            "Pode se formar um triângulo isósceles.\n"
          ]
        }
      ]
    },
    {
      "cell_type": "markdown",
      "source": [
        "#### Questão 12\n",
        "Um estabelecimento está vendendo combustíveis com descontos variados. Para o etanol, se a quantidade comprada for até 15 litros, o desconto será de 2% por litro. Caso contrário, será de 4% por litro. Para o diesel, se a quantidade comprada for até 15 litros, o desconto será de 3% por litro. Caso contrário, será de 5% por litro. O preço do litro de diesel é R\\$ 2,00 e o preço do litro de etanol é R\\$ 1,70. Escreva um programa que leia a quantidade de litros vendidos e o tipo de combustível (E para etanol e D para diesel) e calcule o valor a ser pago pelo cliente. Tenha em mente algumas dicas:\n",
        "\n",
        "- O do valor do desconto será a multiplicação entre preço do litro, quantidade de litros e o valor do desconto.\n",
        "- O valor a ser pago por um cliente será o resultado da multiplicação do preço do litro pela quantidade de litros menos o valor de desconto resultante do cálculo.\n"
      ],
      "metadata": {
        "id": "_PpEpOugHXwZ"
      }
    },
    {
      "cell_type": "code",
      "source": [
        "quan = float(input('Digite a quantidade de litros: '))\n",
        "comb = input('Digite o tipo de combustível (E ou D): ').lower().strip()\n",
        "if comb == 'e':\n",
        "  if quan < 15:\n",
        "    preco = quan * (1.70 - 1.70 * 0.02)\n",
        "  else:\n",
        "    preco = quan * (1.70 - 1.70 * 0.04)\n",
        "elif comb == 'd':\n",
        "  if quan < 15:\n",
        "    preco = quan * (2 - 2 * 0.03)\n",
        "  else:\n",
        "    preco = quan * (2 - 2 * 0.05)\n",
        "else:\n",
        "  print ('Entradas Inválidas!')\n",
        "  preco = 0.0\n",
        "print ('O valor a ser pago é R$%.2f'%(preco))\n"
      ],
      "metadata": {
        "id": "9izoF-0O-1yD",
        "colab": {
          "base_uri": "https://localhost:8080/"
        },
        "outputId": "9e961e65-c964-46c1-bac8-86f846bd97d8"
      },
      "execution_count": null,
      "outputs": [
        {
          "output_type": "stream",
          "name": "stdout",
          "text": [
            "Digite a quantidade de litros: 18\n",
            "Digite o tipo de combustível (E ou D): e\n",
            "O valor a ser pago é R$29.38\n"
          ]
        }
      ]
    },
    {
      "cell_type": "markdown",
      "source": [
        "#### Questão 13\n",
        "Em uma empresa de venda de imóveis você precisa criar um código que analise os dados de vendas anuais para ajudar a diretoria na tomada de decisão. O código precisa coletar os dados de quantidade de venda durante os anos de 2022 e 2023 e fazer um cálculo de variação percentual. A partir do valor da variação, deve ser enviada às seguintes sugestões:\n",
        "- Para variação acima de 20%: bonificação para o time de vendas.\n",
        "- Para variação entre 2% e 20%: pequena bonificação para time de vendas.\n",
        "- Para variação entre 2% e -10%: planejamento de políticas de incentivo às vendas.\n",
        "- Para bonificações abaixo de -10%: corte de gastos.\n"
      ],
      "metadata": {
        "id": "s_XS_D1WHY2R"
      }
    },
    {
      "cell_type": "code",
      "source": [
        "qv1 = int(input('Quantidade de venda em 2022: '))\n",
        "qv2 = int(input('Quantidade de venda em 2023: '))\n",
        "var = (qv2 / qv1 - 1) * 100\n",
        "var = round(var,2)\n",
        "print (f'A variação foi de {var}%. Por isso, a medida sugerida é:')\n",
        "if var > 20:\n",
        "  print('Bonificação para o time de vendas.')\n",
        "elif var > 2 and var <= 20:\n",
        "  print ('Pequena bonificação para o time de vendas.')\n",
        "elif var > -10 and var <= 2:\n",
        "  print  ('Planejamento de políticas de incentivo às vendas.')\n",
        "else:\n",
        "  print ('Corte de gastos.')\n"
      ],
      "metadata": {
        "id": "avQrYlUg-w8f",
        "colab": {
          "base_uri": "https://localhost:8080/"
        },
        "outputId": "0f15e6c6-f726-4995-b84e-a4dc5b5753b1"
      },
      "execution_count": null,
      "outputs": [
        {
          "output_type": "stream",
          "name": "stdout",
          "text": [
            "Quantidade de venda em 2022: 100\n",
            "Quantidade de venda em 2023: 80\n",
            "A variação foi de -20.0%. Por isso, a medida sugerida é:\n",
            "Corte de gastos.\n"
          ]
        }
      ]
    },
    {
      "cell_type": "markdown",
      "source": [
        "## Aula 4 - Estruturas de repetição ✅"
      ],
      "metadata": {
        "id": "AuaWh4-d2Itt"
      }
    },
    {
      "cell_type": "markdown",
      "source": [
        "### Aquecendo na programação"
      ],
      "metadata": {
        "id": "6MSqU0sIJRdD"
      }
    },
    {
      "cell_type": "markdown",
      "source": [
        "#### Questão 1\n",
        "Escreva um programa que peça dois números inteiros e imprima todos os números inteiros entre eles."
      ],
      "metadata": {
        "id": "9eGGyCnAJRdQ"
      }
    },
    {
      "cell_type": "code",
      "source": [
        "n1 = int(input('Digite um número inteiro: '))\n",
        "n2 = int(input('Digite outro número inteiro: '))\n",
        "if n1 < n2:\n",
        "  for i in range(n1 + 1, n2):\n",
        "    print (i)\n",
        "elif n2 < n1:\n",
        "  for i in range(n2 + 1, n1):\n",
        "    print(i)\n",
        "else:\n",
        "    print('Os números são iguais.')\n"
      ],
      "metadata": {
        "id": "ID1oc1hxJRdQ",
        "colab": {
          "base_uri": "https://localhost:8080/"
        },
        "outputId": "195ffdb6-ae9f-465f-d1e9-3d4dad30fe78"
      },
      "execution_count": null,
      "outputs": [
        {
          "output_type": "stream",
          "name": "stdout",
          "text": [
            "Digite um número inteiro: 1\n",
            "Digite outro número inteiro: 3\n",
            "2\n"
          ]
        }
      ]
    },
    {
      "cell_type": "markdown",
      "source": [
        "#### Questão 2\n",
        "Escreva um programa para calcular quantos dias levará para a colônia de uma bactéria A ultrapassar ou igualar a colônia de uma bactéria B, com base nas taxas de crescimento de 3% e 1,5% respectivamente. Considere que a colônia A inicia com 4 elementos e a colônia B com 10 elementos."
      ],
      "metadata": {
        "id": "mGonEHYCJRdR"
      }
    },
    {
      "cell_type": "code",
      "source": [
        "a = 4\n",
        "b = 10\n",
        "dias = 0\n",
        "while a < b:\n",
        "  a += a * 0.03\n",
        "  b += b * 0.015\n",
        "  dias += 1\n",
        "print (f'Levará {dias} dias para que a colônia da bactéria A ultrapasse ou iguale a da bactéria B.')\n",
        "\n"
      ],
      "metadata": {
        "id": "wM6FJuoqJRdR",
        "colab": {
          "base_uri": "https://localhost:8080/"
        },
        "outputId": "638e65c3-a5f7-4c31-c147-bec73688e88c"
      },
      "execution_count": null,
      "outputs": [
        {
          "output_type": "stream",
          "name": "stdout",
          "text": [
            "Levará 63 dias para que a colônia da bactéria A ultrapasse ou iguale a da bactéria B.\n"
          ]
        }
      ]
    },
    {
      "cell_type": "markdown",
      "source": [
        "#### Questão 3\n",
        "Para tratar uma quantidade de 15 dados de avaliações de pessoas usuárias de um serviço da empresa, precisamos verificar se as notas são válidas. Então, escreva um programa que vai receber a nota de 0 a 5 de todos os dados e verificar se é um valor válido. Caso seja inserido uma nota acima de 5 ou abaixo de 0, repita até que a pessoa usuária insira um valor válido."
      ],
      "metadata": {
        "id": "UiOZRlqoJRdR"
      }
    },
    {
      "cell_type": "code",
      "source": [
        "notas = []\n",
        "for i in range(15):\n",
        "  nota = float(input(f'Insira a nota da pessoa usuária {i}: '))\n",
        "  while (nota < 0) or (nota > 5):\n",
        "    nota = float(input(f'Nota inválida, insira novamente a nota da pessoa usuária {i}: '))\n",
        "  notas.append(nota)\n",
        "print('Verificação feita. Todas as notas são válidas')\n",
        "print (notas)\n",
        "\n"
      ],
      "metadata": {
        "id": "3TUAhCxcJRdR",
        "colab": {
          "base_uri": "https://localhost:8080/"
        },
        "outputId": "b9b1806b-182e-4e94-94f5-020b88ce23be"
      },
      "execution_count": null,
      "outputs": [
        {
          "output_type": "stream",
          "name": "stdout",
          "text": [
            "Insira a nota da pessoa usuária 0: 1\n",
            "Insira a nota da pessoa usuária 1: 2\n",
            "Insira a nota da pessoa usuária 2: 3\n",
            "Insira a nota da pessoa usuária 3: 4\n",
            "Insira a nota da pessoa usuária 4: 5\n",
            "Insira a nota da pessoa usuária 5: 1\n",
            "Insira a nota da pessoa usuária 6: 2\n",
            "Insira a nota da pessoa usuária 7: 3\n",
            "Insira a nota da pessoa usuária 8: 4\n",
            "Insira a nota da pessoa usuária 9: 5\n",
            "Insira a nota da pessoa usuária 10: 5\n",
            "Insira a nota da pessoa usuária 11: 4\n",
            "Insira a nota da pessoa usuária 12: 3\n",
            "Insira a nota da pessoa usuária 13: 2\n",
            "Insira a nota da pessoa usuária 14: 1\n",
            "Verificação feita. Todas as notas são válidas\n",
            "[1.0, 2.0, 3.0, 4.0, 5.0, 1.0, 2.0, 3.0, 4.0, 5.0, 5.0, 4.0, 3.0, 2.0, 1.0]\n"
          ]
        }
      ]
    },
    {
      "cell_type": "markdown",
      "source": [
        "#### Questão 4\n",
        "Desenvolva um programa que leia um conjunto indeterminado de temperaturas em Celsius e faça uma análise. Portanto, escreva um programa que leia temperaturas e informe a média delas. A leitura deve ser encerrada ao ser enviado o valor -273°C."
      ],
      "metadata": {
        "id": "ABv3KObGJRdR"
      }
    },
    {
      "cell_type": "code",
      "source": [
        "temperatura = 0\n",
        "soma = 0\n",
        "contador = 0\n",
        "while temperatura != -273:\n",
        "  temperatura = float(input('Digite a temperatura em Celsius (C°): '))\n",
        "  if temperatura == -273:\n",
        "    break\n",
        "  soma += temperatura\n",
        "  contador += 1\n",
        "media = soma / contador\n",
        "print (f'A temperatura média é {media}')\n"
      ],
      "metadata": {
        "colab": {
          "base_uri": "https://localhost:8080/"
        },
        "id": "Mb87VUuxxxOz",
        "outputId": "e93d8e4c-6e62-4357-a7a0-f4e9d88b2d89"
      },
      "execution_count": null,
      "outputs": [
        {
          "name": "stdout",
          "output_type": "stream",
          "text": [
            "Digite a temperatura em Celsius (C°): 20\n",
            "Digite a temperatura em Celsius (C°): 24\n",
            "Digite a temperatura em Celsius (C°): 23.5\n",
            "Digite a temperatura em Celsius (C°): 32\n",
            "Digite a temperatura em Celsius (C°): 13\n"
          ]
        }
      ]
    },
    {
      "cell_type": "markdown",
      "source": [
        "#### Questão 5\n",
        "Escreva um programa que calcule o fatorial de um número inteiro fornecido pela pessoa usuária. O fatorial de um número inteiro é a multiplicação desse número por todos os seus antecessores até o número 1. Por exemplo, o fatorial de 5 é 5 x 4 x 3 x 2 x 1 = 120."
      ],
      "metadata": {
        "id": "IjkbAfGcJRdS"
      }
    },
    {
      "cell_type": "code",
      "source": [
        "num = int(input('Digite um número inteiro: '))\n",
        "fatorial = num\n",
        "for i in range(num -1, 0, -1):\n",
        "  fatorial *= i\n",
        "print (f'A fatorial deste número é {fatorial}.')"
      ],
      "metadata": {
        "id": "7RTH8o0HJRdS",
        "colab": {
          "base_uri": "https://localhost:8080/"
        },
        "outputId": "209d60fa-978a-4385-fbf3-73ad5b0b31df"
      },
      "execution_count": null,
      "outputs": [
        {
          "output_type": "stream",
          "name": "stdout",
          "text": [
            "Digite um número inteiro: 5\n",
            "A fatorial deste número é 120.\n"
          ]
        }
      ]
    },
    {
      "cell_type": "markdown",
      "source": [
        "### Momento dos projetos"
      ],
      "metadata": {
        "id": "oGNKuQjsJRdT"
      }
    },
    {
      "cell_type": "markdown",
      "source": [
        "#### Questão 6\n",
        "Escreva um programa que gere a tabuada de um número inteiro de 1 a 10, de acordo com a escolha da pessoa usuária. Como exemplo, para o número 2, a tabuada deve ser mostrada no seguinte formato:\n",
        "```\n",
        "Tabuada do 2:\n",
        "2 x 1 = 2\n",
        "2 x 2 = 4\n",
        "[...]\n",
        "2 x 10 = 20\n",
        "```"
      ],
      "metadata": {
        "id": "ODxaTUYmJRdS"
      }
    },
    {
      "cell_type": "code",
      "source": [
        "num = int(input('Digite um número inteiro de 1 a 10: '))\n",
        "if num >= 1 and num <= 10:\n",
        "  print (f'Tabuada do {num}:')\n",
        "  for i in range(1,11):\n",
        "    print (f'{num} x {i} = {num * i}')\n",
        "else:\n",
        "  print ('Entrada inválida.')\n",
        "\n"
      ],
      "metadata": {
        "id": "lkTlbxPIJRdS",
        "colab": {
          "base_uri": "https://localhost:8080/"
        },
        "outputId": "43abbb6d-568e-4e2b-bd33-022c944e71c2"
      },
      "execution_count": null,
      "outputs": [
        {
          "output_type": "stream",
          "name": "stdout",
          "text": [
            "Digite um número inteiro de 1 a 10: 3\n",
            "Tabuada do 3:\n",
            "3 x 1 = 3\n",
            "3 x 2 = 6\n",
            "3 x 3 = 9\n",
            "3 x 4 = 12\n",
            "3 x 5 = 15\n",
            "3 x 6 = 18\n",
            "3 x 7 = 21\n",
            "3 x 8 = 24\n",
            "3 x 9 = 27\n",
            "3 x 10 = 30\n"
          ]
        }
      ]
    },
    {
      "cell_type": "markdown",
      "source": [
        "#### Questão 7\n",
        "Os números primos possuem várias aplicações dentro da Ciência de Dados, por exemplo, na criptografia e segurança. Um número primo é aquele que é divisível apenas por um e por ele mesmo. Faça um programa que peça um número inteiro e determine se ele é ou não um número primo."
      ],
      "metadata": {
        "id": "LeIbnt8VJRdS"
      }
    },
    {
      "cell_type": "code",
      "source": [
        "\n",
        "num = int(input('Insira um número inteiro: '))\n",
        "x = True\n",
        "if num > 1:\n",
        "    for i in range(2, num):\n",
        "        if (num % i) == 0:\n",
        "            print(f'{num} não é um número primo.')\n",
        "            x = False\n",
        "            break\n",
        "elif num == 1:\n",
        "  x = True\n",
        "else:\n",
        "  print ('Entrada inválida.')\n",
        "if x == True:\n",
        "  print (f'{num} é um número primo.')\n",
        "\n",
        "\n"
      ],
      "metadata": {
        "id": "2rcNU7twJRdS",
        "colab": {
          "base_uri": "https://localhost:8080/"
        },
        "outputId": "a9da123e-7c2b-4c58-a3e8-bbfb35dbedb0"
      },
      "execution_count": null,
      "outputs": [
        {
          "output_type": "stream",
          "name": "stdout",
          "text": [
            "Insira um número inteiro: 271\n",
            "271 é um número primo.\n"
          ]
        }
      ]
    },
    {
      "cell_type": "markdown",
      "source": [
        "#### Questão 8\n",
        "Vamos entender a distribuição de idades de pensionistas de uma empresa de previdência. Escreva um programa que leia as idades de uma quantidade não informada de clientes e mostre a distribuição em intervalos de [0-25], [26-50], [51-75] e [76-100]. Encerre a entrada de dados com um número negativo."
      ],
      "metadata": {
        "id": "QTwb6QaCJRdT"
      }
    },
    {
      "cell_type": "code",
      "source": [
        "i = 1\n",
        "i1 = 0\n",
        "i2 = 0\n",
        "i3 = 0\n",
        "i4 = 0\n",
        "while i > 0:\n",
        "  idade = int(input('Digite a idade: '))\n",
        "  if idade >= 0 and idade <= 25:\n",
        "    i1 += 1\n",
        "  elif idade >= 26 and idade <= 50:\n",
        "    i2 += 1\n",
        "  elif idade >= 51 and idade <= 75:\n",
        "    i3 += 1\n",
        "  elif idade >= 76 and idade <= 100:\n",
        "    i4 += 1\n",
        "  elif idade < 0:\n",
        "    break\n",
        "  else:\n",
        "    print ('Idade inválida, resposta não registrada')\n",
        "print (f'\\nDistribuição de clientes em intervalos de idade:\\n\\n[0-25]: {i1}\\n[26-50]: {i2}\\n[51-75]: {i3}\\n[76-100]: {i4}')"
      ],
      "metadata": {
        "id": "4IAhaDmYJRdT",
        "colab": {
          "base_uri": "https://localhost:8080/"
        },
        "outputId": "fdfc8a1c-9f6a-4847-f72f-c869846b0ce4"
      },
      "execution_count": null,
      "outputs": [
        {
          "output_type": "stream",
          "name": "stdout",
          "text": [
            "Digite a idade: 1\n",
            "Digite a idade: 2\n",
            "Digite a idade: 20\n",
            "Digite a idade: 34\n",
            "Digite a idade: 35\n",
            "Digite a idade: 36\n",
            "Digite a idade: 5\n",
            "Digite a idade: 55\n",
            "Digite a idade: -9\n",
            "Distribuição de clientes em intervalos de idade:\n",
            "\n",
            "[0-25]: 4\n",
            "[26-50]: 3\n",
            "[51-75]: 1\n",
            "[76-100]: 0\n"
          ]
        }
      ]
    },
    {
      "cell_type": "markdown",
      "source": [
        "#### Questão 9\n",
        "Em uma eleição para gerência em uma empresa com 20 funcionários, existem quatro candidatos. Escreva um programa que calcule o vencedor da eleição. A votação ocorreu da seguinte maneira:\n",
        "- Cada funcionário votou em um dos quatro candidatos (representados pelos números 1, 2, 3 e 4).\n",
        "- Também foram contabilizados os votos nulos (representado pelo número 5) e os votos em branco (representado pelo número 6).\n",
        "\n",
        "Ao final da votação, o programa deve exibir o total de votos para cada candidato, o número de votos nulos e o número de votos em branco. Além disso, deve calcular e exibir a porcentagem de votos nulos em relação ao total de votos e a porcentagem de votos em branco em relação ao total de votos."
      ],
      "metadata": {
        "id": "soJCQVwRJRdT"
      }
    },
    {
      "cell_type": "code",
      "source": [
        "c1 = 0\n",
        "c2 = 0\n",
        "c3 = 0\n",
        "c4 = 0\n",
        "nulo = 0\n",
        "branco = 0\n",
        "i = 0\n",
        "while i < 20:\n",
        "  voto = int(input('Digite seu voto: '))\n",
        "  if voto == 1:\n",
        "    c1 += 1\n",
        "    i += 1\n",
        "  elif voto == 2:\n",
        "    c2 += 1\n",
        "    i += 1\n",
        "  elif voto == 3:\n",
        "    c3 += 1\n",
        "    i += 1\n",
        "  elif voto == 4:\n",
        "    c4 += 1\n",
        "    i += 1\n",
        "  elif voto == 5:\n",
        "    nulo += 1\n",
        "    i += 1\n",
        "  elif voto == 6:\n",
        "    branco += 1\n",
        "    i += 1\n",
        "  else:\n",
        "    print ('Valor inválido, vote novamente inserindo um número inteiro de 1 e 6: ')\n",
        "total_votos = c1 + c2 + c3 + c4 + nulo + branco\n",
        "npc = nulo / total_votos * 100\n",
        "bpc = branco / total_votos * 100\n",
        "print (f'\\nParcial final:\\n\\nCandidato 1: {c1}\\nCandidato 2: {c2}\\nCandidato 3: {c3}\\nCandidato 4: {c4}\\nVotos nulos: {nulo}\\nVotos em branco: {branco}')\n",
        "print (f'\\nVotos nulos representaram {npc}% dos votos totais\\nVotos em branco representaram {bpc}% dos votos totais')\n",
        "\n"
      ],
      "metadata": {
        "id": "041EFrgG-4gR",
        "colab": {
          "base_uri": "https://localhost:8080/"
        },
        "outputId": "e16d0cc8-3532-46fe-db80-c6c7f1312dc5"
      },
      "execution_count": null,
      "outputs": [
        {
          "output_type": "stream",
          "name": "stdout",
          "text": [
            "Digite seu voto: 1\n",
            "Digite seu voto: 2\n",
            "Digite seu voto: 3\n",
            "Digite seu voto: 4\n",
            "Digite seu voto: 5\n",
            "Digite seu voto: 3\n",
            "Digite seu voto: 2\n",
            "Digite seu voto: 7\n",
            "Valor inválido, vote novamente inserindo um número inteiro de 1 e 6: \n",
            "Digite seu voto: 6\n",
            "Digite seu voto: 6\n",
            "Digite seu voto: 5\n",
            "Digite seu voto: 5\n",
            "Digite seu voto: 5\n",
            "Digite seu voto: 5\n",
            "Digite seu voto: 1\n",
            "Digite seu voto: 1\n",
            "Digite seu voto: 1\n",
            "Digite seu voto: 1\n",
            "Digite seu voto: 1\n",
            "Digite seu voto: 1\n",
            "Digite seu voto: 1\n",
            "\n",
            "Parcial final:\n",
            "\n",
            "Candidato 1: 8\n",
            "Candidato 2: 2\n",
            "Candidato 3: 2\n",
            "Candidato 4: 1\n",
            "Votos nulos: 5\n",
            "Votos em branco: 2\n",
            "\n",
            "Votos nulos representaram 25.0% dos votos totais\n",
            "Votos em branco representaram 10.0% dos votos totais2\n"
          ]
        }
      ]
    },
    {
      "cell_type": "markdown",
      "source": [
        "## Aula 5 - Estruturas de dados ✅"
      ],
      "metadata": {
        "id": "eijHQiNU2IZ7"
      }
    },
    {
      "cell_type": "markdown",
      "source": [
        "### Aquecendo na programação"
      ],
      "metadata": {
        "id": "92F0bKtBMgd7"
      }
    },
    {
      "cell_type": "markdown",
      "source": [
        "#### Questão 1\n",
        "Faça um programa que tenha a seguinte lista contendo os valores de gastos de uma empresa de papel `[2172.54, 3701.35, 3518.09, 3456.61, 3249.38, 2840.82, 3891.45, 3075.26, 2317.64, 3219.08]`. Com esses valores, faça um programa que calcule a média de gastos. Dica, use as funções built-in [`sum()`](https://docs.python.org/3/library/functions.html#sum) e [`len()`](https://docs.python.org/3/library/functions.html#len)."
      ],
      "metadata": {
        "id": "IypX2ANuMgeC"
      }
    },
    {
      "cell_type": "code",
      "source": [
        "gastos = [2172.54, 3701.35, 3518.09, 3456.61, 3249.38, 2840.82, 3891.45, 3075.26, 2317.64, 3219.08]\n",
        "media_gastos = sum(gastos) / len(gastos)\n",
        "print ('A média de gastos é R$%.2f.'%media_gastos)\n"
      ],
      "metadata": {
        "id": "ge3LuFhLMgeD",
        "colab": {
          "base_uri": "https://localhost:8080/"
        },
        "outputId": "5d62fa0b-1ca1-42a2-e70a-f4a819677740"
      },
      "execution_count": null,
      "outputs": [
        {
          "output_type": "stream",
          "name": "stdout",
          "text": [
            "A média de gastos é R$3144.22.\n"
          ]
        }
      ]
    },
    {
      "cell_type": "markdown",
      "source": [
        "#### Questão 2\n",
        " Com os mesmos dados da questão anterior, defina quantas compras foram acima de 3000 reais e calcule a porcentagem quanto ao total de compras."
      ],
      "metadata": {
        "id": "xrOeLhQkMgeD"
      }
    },
    {
      "cell_type": "code",
      "source": [
        "gastos = [2172.54, 3701.35, 3518.09, 3456.61, 3249.38, 2840.82, 3891.45, 3075.26, 2317.64, 3219.08]\n",
        "gastos_over_3000 = []\n",
        "for i in gastos:\n",
        "  if i > 3000:\n",
        "    gastos_over_3000.append(i)\n",
        "percentual = len(gastos_over_3000) / len(gastos) * 100\n",
        "print('%d compras foram acima de 3000 reais, o que representa %.2f%% do total de compras.' % (len(gastos_over_3000), percentual))\n",
        "\n"
      ],
      "metadata": {
        "id": "Ygu5TMZyMgeD",
        "colab": {
          "base_uri": "https://localhost:8080/"
        },
        "outputId": "a17c3963-90d5-4750-ba73-81b3c24b3103"
      },
      "execution_count": null,
      "outputs": [
        {
          "output_type": "stream",
          "name": "stdout",
          "text": [
            "7 compras foram acima de 3000 reais, o que representa 70.00% do total de compras.\n"
          ]
        }
      ]
    },
    {
      "cell_type": "markdown",
      "source": [
        "#### Questão 3\n",
        "Faça um código que colete em uma lista 5 números inteiros quaisquer e imprima a lista. Exemplo: `[1,4,7,2,4]`."
      ],
      "metadata": {
        "id": "JgCOrE_BMgeD"
      }
    },
    {
      "cell_type": "code",
      "source": [
        "i = 0\n",
        "numeros = []\n",
        "while i < 5:\n",
        "  x = int(input('Digite um número inteiro: '))\n",
        "  numeros.append(x)\n",
        "  i += 1\n",
        "print(numeros)\n"
      ],
      "metadata": {
        "id": "vtM9O1hLMgeD",
        "colab": {
          "base_uri": "https://localhost:8080/"
        },
        "outputId": "01dcd129-178d-4cd4-a16e-9dc1648209ed"
      },
      "execution_count": null,
      "outputs": [
        {
          "output_type": "stream",
          "name": "stdout",
          "text": [
            "Digite um número inteiro: 10\n",
            "Digite um número inteiro: 34\n",
            "Digite um número inteiro: 70\n",
            "Digite um número inteiro: 1\n",
            "Digite um número inteiro: 2\n",
            "[10, 34, 70, 1, 2]\n"
          ]
        }
      ]
    },
    {
      "cell_type": "markdown",
      "source": [
        "#### Questão 4\n",
        "Colete novamente 5 inteiros e imprima a lista em ordem inversa à enviada."
      ],
      "metadata": {
        "id": "p3bTp88HMgeD"
      }
    },
    {
      "cell_type": "code",
      "source": [
        "i = 0\n",
        "numeros = []\n",
        "while i < 5:\n",
        "  x = int(input('Digite um número inteiro: '))\n",
        "  numeros.append(x)\n",
        "  i += 1\n",
        "numeros.sort(reverse=True)\n",
        "print(numeros)"
      ],
      "metadata": {
        "id": "-CGwMIyHMgeD",
        "colab": {
          "base_uri": "https://localhost:8080/"
        },
        "outputId": "c7b892b4-7004-4fca-e661-b91cda7d69cf"
      },
      "execution_count": null,
      "outputs": [
        {
          "output_type": "stream",
          "name": "stdout",
          "text": [
            "Digite um número inteiro: 1\n",
            "Digite um número inteiro: 2\n",
            "Digite um número inteiro: 3\n",
            "Digite um número inteiro: 4\n",
            "Digite um número inteiro: 5\n",
            "[5, 4, 3, 2, 1]\n"
          ]
        }
      ]
    },
    {
      "cell_type": "markdown",
      "source": [
        "#### Questão 5\n",
        "Faça um programa que, ao inserir um número qualquer, criará uma lista contendo todos os números primos entre 1 e o número digitado."
      ],
      "metadata": {
        "id": "eIXd_z1lMgeD"
      }
    },
    {
      "cell_type": "code",
      "source": [
        "num = int(input('Digite um número qualquer: '))\n",
        "num_primo = []\n",
        "for i in range(2, num):\n",
        "  primo = True\n",
        "  for x in range(2, i):\n",
        "    if i % x == 0:\n",
        "      primo = False\n",
        "      break\n",
        "  if primo == True:\n",
        "    num_primo.append(i)\n",
        "print (f'Lista de números primos entre 1 e {num}: {num_primo}')\n",
        "\n"
      ],
      "metadata": {
        "id": "rj_6GHstMgeE",
        "colab": {
          "base_uri": "https://localhost:8080/"
        },
        "outputId": "72724df3-71e4-417d-b36b-b37923a88c89"
      },
      "execution_count": null,
      "outputs": [
        {
          "output_type": "stream",
          "name": "stdout",
          "text": [
            "Digite um número qualquer: 30\n",
            "Lista de números primos entre 1 e 30: [2, 3, 5, 7, 11, 13, 17, 19, 23, 29]\n"
          ]
        }
      ]
    },
    {
      "cell_type": "markdown",
      "source": [
        "#### Questão 6\n",
        "Escreva um programa que peça uma data informando o dia, mês e ano e determine se ela é uma data válida para uma análise."
      ],
      "metadata": {
        "id": "zrbz3ENlMgeE"
      }
    },
    {
      "cell_type": "code",
      "source": [
        "# Coletamos a data\n",
        "dia = int(input('Digite o dia: '))\n",
        "mes = int(input('Digite o mês: '))\n",
        "ano = int(input('Digite o ano: '))\n",
        "\n",
        "# Análise de fevereiro\n",
        "if mes == 2:\n",
        "  # Verificamos se é ou não um ano bissexto\n",
        "  if ano % 4 == 0 and (ano % 400 == 0 or ano % 100 != 0):\n",
        "    dias_fevereiro = 29\n",
        "  else:\n",
        "    dias_fevereiro = 28\n",
        "  # Verificamos se o dia colocado corresponde ao máximo de dias de fevereiro\n",
        "  if dia >= 1 and dia <= dias_fevereiro:\n",
        "    print('Data válida')\n",
        "  else:\n",
        "    print('Data inválida')\n",
        "# Verificamos meses terminados em 31 dias\n",
        "elif mes in [1, 3, 5, 7, 8, 10, 12]:\n",
        "  if dia >= 1 and dia <= 31:\n",
        "    print('Data válida')\n",
        "  else:\n",
        "    print('Data inválida')\n",
        "# Verificamos meses terminados em 30 dias\n",
        "elif mes in [4, 6, 9, 11]:\n",
        "  if dia >= 1 and dia <= 30:\n",
        "    print('Data válida')\n",
        "  else:\n",
        "    print('Data inválida')\n",
        "# Caso o mês não esteja entre 1 e 12\n",
        "else:\n",
        "  print('Data inválida')\n"
      ],
      "metadata": {
        "id": "0eYA8UjTMgeE"
      },
      "execution_count": null,
      "outputs": []
    },
    {
      "cell_type": "markdown",
      "source": [
        "### Momento dos projetos"
      ],
      "metadata": {
        "id": "ut_4VHdGMgeE"
      }
    },
    {
      "cell_type": "markdown",
      "source": [
        "#### Questão 7\n",
        "Para um estudo envolvendo o nível de multiplicação de bactérias em uma colônia, foi coletado o número de bactérias multiplicadas por dia, com base em um processo de duplicação diária e pode ser observado a seguir: `[1.2, 2.1, 3.3, 5.0, 7.8, 11.3, 16.6, 25.1, 37.8, 56.9]`. Tendo esses valores, faça um código que gere uma lista contendo o percentual de crescimento de bactérias por dia, comparando o número de bactérias em cada dia com o número de bactérias do dia anterior. Dica: para calcular o percentual de crescimento usamos a seguinte equação: `100 * (amostra_atual - amostra_passada) / (amostra_passada)`."
      ],
      "metadata": {
        "id": "G86Z0vD_MgeE"
      }
    },
    {
      "cell_type": "code",
      "source": [
        "bac = [1.2, 2.1, 3.3, 5.0, 7.8, 11.3, 16.6, 25.1, 37.8, 56.9]\n",
        "var = []\n",
        "for i in range(0, len(bac)):\n",
        "  if i < len(bac)-1:\n",
        "    v = round((bac[i+1] - bac[i])/bac[i] * 100,2)\n",
        "    var.append(v)\n",
        "print(f'Porcentagens de crescimento: {var}')"
      ],
      "metadata": {
        "id": "PXNO_CFkMgeE",
        "colab": {
          "base_uri": "https://localhost:8080/"
        },
        "outputId": "0ac9f5cd-2dd1-407a-f007-2496c649b4e2"
      },
      "execution_count": null,
      "outputs": [
        {
          "output_type": "stream",
          "name": "stdout",
          "text": [
            "Porcentagens de crescimento: [75.0, 57.14, 51.52, 56.0, 44.87, 46.9, 51.2, 50.6, 50.53]\n"
          ]
        }
      ]
    },
    {
      "cell_type": "markdown",
      "source": [
        "#### Questão 8\n",
        "Para uma seleção de produtos alimentícios, precisamos separar o conjunto de IDs dados por números inteiros, sabendo que os produtos com ID par são doces e os com ID ímpar são amargos. Monte um código que colete 10 IDs. Depois, calcule e mostre a quantidade de produtos doces e amargos."
      ],
      "metadata": {
        "id": "p4nxogpnMgeE"
      }
    },
    {
      "cell_type": "code",
      "source": [
        "i = 0\n",
        "doce = 0\n",
        "amargo = 0\n",
        "while i < 10:\n",
        "  id = int(input('Digite o ID do produto: '))\n",
        "  if id % 2 == 0:\n",
        "    doce += 1\n",
        "  else:\n",
        "    amargo += 1\n",
        "  i += 1\n",
        "print (f'Há {doce} produtos doces e {amargo} produtos amargos.')\n"
      ],
      "metadata": {
        "id": "WqjO2SZkMgeE",
        "colab": {
          "base_uri": "https://localhost:8080/"
        },
        "outputId": "aa4a106f-6f67-47b7-dc72-c016b6afb095"
      },
      "execution_count": null,
      "outputs": [
        {
          "output_type": "stream",
          "name": "stdout",
          "text": [
            "Digite o ID do produto: 1\n",
            "Digite o ID do produto: 2\n",
            "Digite o ID do produto: 3\n",
            "Digite o ID do produto: 4\n",
            "Digite o ID do produto: 5\n",
            "Digite o ID do produto: 6\n",
            "Digite o ID do produto: 7\n",
            "Digite o ID do produto: 8\n",
            "Digite o ID do produto: 9\n",
            "Digite o ID do produto: 10\n",
            "Há 5 produtos doces e 5 produtos amargos.\n"
          ]
        }
      ]
    },
    {
      "cell_type": "markdown",
      "source": [
        "#### Questão 9\n",
        "Desenvolva um programa que informa a nota de um aluno de acordo com suas respostas. Ele deve pedir a resposta de um aluno para cada questão e é preciso verificar se a resposta foi igual ao gabarito. Cada questão vale um ponto e existem alternativas:  A, B, C ou D.\n",
        "```\n",
        "Gabarito da Prova:\n",
        "01 - D\n",
        "02 - A\n",
        "03 - C\n",
        "04 - B\n",
        "05 - A\n",
        "06 - D\n",
        "07 - C\n",
        "08 - C\n",
        "09 - A\n",
        "10 - B\n",
        "```"
      ],
      "metadata": {
        "id": "t5OrLxV6MgeE"
      }
    },
    {
      "cell_type": "code",
      "source": [
        "nota = 0\n",
        "for i in range(1, 11):\n",
        "  resposta = input(f'Digite sua resposta para a questão {i}: '.lower())\n",
        "  if i in [1, 6] and resposta == 'd':\n",
        "    nota += 1\n",
        "  if i in [2, 5, 9] and resposta =='a':\n",
        "    nota += 1\n",
        "  if i in [3, 7, 8] and resposta == 'c':\n",
        "    nota += 1\n",
        "  if i in [4, 10] and resposta == 'b':\n",
        "    nota += 1\n",
        "print (f'A nota do aluno na prova é {nota}.')\n",
        "\n"
      ],
      "metadata": {
        "id": "ytIQDJrQMgeE",
        "colab": {
          "base_uri": "https://localhost:8080/"
        },
        "outputId": "7b948508-e658-4db7-e0fd-42ae686167e9"
      },
      "execution_count": null,
      "outputs": [
        {
          "output_type": "stream",
          "name": "stdout",
          "text": [
            "digite sua resposta para a questão 1: d\n",
            "digite sua resposta para a questão 2: a\n",
            "digite sua resposta para a questão 3: c\n",
            "digite sua resposta para a questão 4: b\n",
            "digite sua resposta para a questão 5: a\n",
            "digite sua resposta para a questão 6: d\n",
            "digite sua resposta para a questão 7: b\n",
            "digite sua resposta para a questão 8: b\n",
            "digite sua resposta para a questão 9: a\n",
            "digite sua resposta para a questão 10: c\n",
            "A nota do aluno na prova é 7.\n"
          ]
        }
      ]
    },
    {
      "cell_type": "markdown",
      "source": [
        "#### Questão 10\n",
        "Um instituto de meteorologia deseja fazer um estudo de temperatura média de cada mês do ano. Para isso, você precisa fazer um código que colete e armazene essas temperaturas médias em uma lista. Depois, calcule a média anual das temperaturas e mostre todas as temperaturas acima da média anual, e em que mês elas ocorreram, mostrando os meses por extenso: Janeiro, Fevereiro, etc."
      ],
      "metadata": {
        "id": "aSBMzh-AMgeF"
      }
    },
    {
      "cell_type": "code",
      "source": [
        "temp_mensal = []\n",
        "meses = ['Janeiro', 'Fevereiro', 'Março', 'Abril', 'Maio', 'Junho', 'Julho', 'Agosto', 'Setembro', 'Outubro', 'Novembro', 'Dezembro']\n",
        "for i in meses:\n",
        "  temp = float(input(f'Digite a temperatura média mensal de {i}: '))\n",
        "  temp_mensal.append(temp)\n",
        "media_anual = round(sum(temp_mensal)/len(temp_mensal),2)\n",
        "print (f'Meses em que a temperatura ficou acima da média mensal de {media_anual}C°: ')\n",
        "for i in range(0, len(temp_mensal)):\n",
        "  if temp_mensal[i] > media_anual:\n",
        "    print (f'{meses[i]}: {temp_mensal[i]}')"
      ],
      "metadata": {
        "id": "ftj04s2uMgeF",
        "colab": {
          "base_uri": "https://localhost:8080/"
        },
        "outputId": "70576db0-c80d-4c25-9e41-423ee548a04b"
      },
      "execution_count": null,
      "outputs": [
        {
          "output_type": "stream",
          "name": "stdout",
          "text": [
            "Digite a temperatura média mensal de Janeiro: 25.3\n",
            "Digite a temperatura média mensal de Fevereiro: 24.6\n",
            "Digite a temperatura média mensal de Março: 23.2\n",
            "Digite a temperatura média mensal de Abril: 21\n",
            "Digite a temperatura média mensal de Maio: 20.5\n",
            "Digite a temperatura média mensal de Junho: 17.98\n",
            "Digite a temperatura média mensal de Julho: 18.9\n",
            "Digite a temperatura média mensal de Agosto: 19.9\n",
            "Digite a temperatura média mensal de Setembro: 21.3\n",
            "Digite a temperatura média mensal de Outubro: 25.1\n",
            "Digite a temperatura média mensal de Novembro: 28.9\n",
            "Digite a temperatura média mensal de Dezembro: 35.67\n",
            "Meses em que a temperatura ficou acima da média mensal de {media_anual}C°: \n",
            "Janeiro: 25.3\n",
            "Fevereiro: 24.6\n",
            "Outubro: 25.1\n",
            "Novembro: 28.9\n",
            "Dezembro: 35.67\n"
          ]
        }
      ]
    },
    {
      "cell_type": "markdown",
      "source": [
        "#### Questão 11\n",
        "Uma empresa de e-commerce está interessada em analisar as vendas dos seus produtos. Os dados das vendas foram armazenados em um dicionário:\n",
        "```\n",
        "{'Produto A': 300, 'Produto B': 80, 'Produto C': 60,\n",
        " 'Produto D': 200, 'Produto E': 250, 'Produto F': 30}\n",
        "```\n",
        "Escreva um código que calcule o total de vendas e o produto mais vendido."
      ],
      "metadata": {
        "id": "0X8S6s4jMgeF"
      }
    },
    {
      "cell_type": "code",
      "source": [
        "vendas = {'Produto A': 300, 'Produto B': 80, 'Produto C': 60,\n",
        " 'Produto D': 200, 'Produto E': 250, 'Produto F': 300}\n",
        "best_seller = ''\n",
        "vendas_best_seller = 0\n",
        "total_vendas = 0\n",
        "for x, i in vendas.items():\n",
        "  if i > vendas_best_seller:\n",
        "    vendas_best_seller = i\n",
        "    best_seller = x\n",
        "  elif i == vendas_best_seller:\n",
        "    best_seller += f' e {x}'\n",
        "  total_vendas += i\n",
        "print (f'Total de vendas: {total_vendas}')\n",
        "print (f'Produto mais vendido: {best_seller}')\n",
        "\n"
      ],
      "metadata": {
        "id": "Xa3DJLtFMgeF",
        "colab": {
          "base_uri": "https://localhost:8080/"
        },
        "outputId": "8531e391-3a18-4c1f-c824-dabe05318c4c"
      },
      "execution_count": null,
      "outputs": [
        {
          "output_type": "stream",
          "name": "stdout",
          "text": [
            "Total de vendas: 1190\n",
            "Produto mais vendido: Produto A e Produto F\n"
          ]
        }
      ]
    },
    {
      "cell_type": "markdown",
      "source": [
        "#### Questão 12\n",
        "Uma pesquisa de mercado foi feita para decidir qual design de uma marca infantil mais agrada crianças. A pesquisa foi feita e o votos computados podem ser observados abaixo:\n",
        "```\n",
        "'''\n",
        "Tabela de votos da marca\n",
        "Design 1 - 1334 votos\n",
        "Design 2 - 982 votos\n",
        "Design 3 - 1751 votos\n",
        "Design 4 - 210 votos\n",
        "Design 5 - 1811 votos\n",
        "'''\n",
        "```\n",
        "Adapte os dados fornecidos a você para uma estrutura de dicionário e a partir dele, informe o design vencedor e a porcentagem de votos recebidos.\n"
      ],
      "metadata": {
        "id": "nrEwf_1ZMgeF"
      }
    },
    {
      "cell_type": "code",
      "source": [
        "votos = {'Design 1': 1334, 'Design 2': 982, 'Design 3': 1751, 'Design 4': 210, 'Design 5': 1811}\n",
        "total_votos = 0\n",
        "vencedor = ''\n",
        "voto_vencedor = 0\n",
        "for k, v in votos.items():\n",
        "  total_votos += v\n",
        "  if v > voto_vencedor:\n",
        "    voto_vencedor = v\n",
        "    vencedor = k\n",
        "porcentagem_vencedor = round(voto_vencedor / total_votos * 100,2)\n",
        "print(f'O design vencedor foi o {vencedor}, com {porcentagem_vencedor}% dos votos recebidos.')"
      ],
      "metadata": {
        "id": "MRPcGR-_MgeF",
        "colab": {
          "base_uri": "https://localhost:8080/"
        },
        "outputId": "8086423d-63fe-4712-bae9-17fa68848e6a"
      },
      "execution_count": null,
      "outputs": [
        {
          "output_type": "stream",
          "name": "stdout",
          "text": [
            "O design vencedor foi o Design 5, com 29.75% dos votos recebidos.\n"
          ]
        }
      ]
    },
    {
      "cell_type": "markdown",
      "source": [
        "#### Questão 13\n",
        "Os funcionários de um setor da empresa que você trabalha vão receber um abono correspondente a 10% do seu salário devido ao ótimo desempenho do time. O setor financeiro solicitou sua ajuda para a verificação das consequências financeiras que esse abono irá gerar nos recursos. Assim, foi encaminhada para você uma lista com os salários que receberão o abono: `[1172, 1644, 2617, 5130, 5532, 6341, 6650, 7238, 7685, 7782, 7903]`. O abono de cada funcionário não pode ser inferior a 200. Em código, transforme cada um dos salários em chaves de um dicionário e o abono de cada salário no elemento. Depois, informe o total de gastos com o abono, quantos funcionários receberam o abono mínimo e qual o maior valor de abono fornecido.\n"
      ],
      "metadata": {
        "id": "HRTFFzKIMgeF"
      }
    },
    {
      "cell_type": "code",
      "source": [
        "salarios = [1172, 1644, 2617, 5130, 5532, 6341, 6650, 7238, 7685, 7782, 7903]\n",
        "total_abonos = 0\n",
        "salarios_abonados = {}\n",
        "qntd_abono_min = 0\n",
        "abono_max = 0\n",
        "\n",
        "for i in salarios:\n",
        "  abono = round(i * 0.1,2)\n",
        "  if abono < 200:\n",
        "    abono = 200\n",
        "    qntd_abono_min += 1\n",
        "  if abono > abono_max:\n",
        "    abono_max = abono\n",
        "  total_abonos +=  abono\n",
        "  salarios_abonados[i] = abono\n",
        "print(salarios_abonados)\n",
        "print (f'Total de gastos com abono: {total_abonos}')\n",
        "print (f'Quantidade de funcionários que receberam abono mínimo: {qntd_abono_min}')\n",
        "print (f'Maior valor de abono fornecido: {abono_max}')\n"
      ],
      "metadata": {
        "id": "QsDSCua42bLB",
        "colab": {
          "base_uri": "https://localhost:8080/"
        },
        "outputId": "f69a4b66-97da-451e-9b90-5b9bec480248"
      },
      "execution_count": null,
      "outputs": [
        {
          "output_type": "stream",
          "name": "stdout",
          "text": [
            "{1172: 200, 1644: 200, 2617: 261.7, 5130: 513.0, 5532: 553.2, 6341: 634.1, 6650: 665.0, 7238: 723.8, 7685: 768.5, 7782: 778.2, 7903: 790.3}\n",
            "Total de gastos com abono: 6087.8\n",
            "Quantidade de funcionários que receberam abono mínimo: 2\n",
            "Maior valor de abono fornecido: 790.3\n"
          ]
        }
      ]
    },
    {
      "cell_type": "markdown",
      "source": [
        "#### Questão 14\n",
        "Uma equipe de cientistas de dados está estudando a diversidade biológica em uma floresta. A equipe fez a coleta de informações sobre o número de espécies de plantas e animais em cada área da floresta e armazenaram essas informações em um dicionário. Nele, a chave descreve a área dos dados e os valores nas listas correspondem às espécies de plantas e animais nas áreas, respectivamente.\n",
        "```\n",
        "{'Área Norte': [2819, 7236],\n",
        " 'Área Leste': [1440, 9492],\n",
        " 'Área Sul': [5969, 7496],\n",
        " 'Área Oeste': [14446, 49688],\n",
        " 'Área Centro': [22558, 45148]}\n",
        "```\n",
        "Escreva um código para calcular a média de espécies por área e identificar a área com a maior diversidade biológica. Dica: use as funções built-in [`sum()`](https://docs.python.org/3/library/functions.html#sum) e [`len()`](https://docs.python.org/3/library/functions.html#len).\n"
      ],
      "metadata": {
        "id": "6dEXZEwjMlWy"
      }
    },
    {
      "cell_type": "code",
      "source": [
        "dados = {'Área Norte': [2819, 7236],\n",
        " 'Área Leste': [1440, 9492],\n",
        " 'Área Sul': [5969, 7496],\n",
        " 'Área Oeste': [14446, 49688],\n",
        " 'Área Central': [22558, 45148]}\n",
        "medias = {}\n",
        "maior_media = 0\n",
        "area_maior_media = ''\n",
        "for k, v in dados.items():\n",
        "  media = round(sum(v) / len(v), 2)\n",
        "  medias[k]=media\n",
        "  if media > maior_media:\n",
        "    maior_media = media\n",
        "    area_maior_media = k\n",
        "  print (f'A média de espécies da {k} é {media}')\n",
        "print (f'A área com a maior média é a {area_maior_media}')\n",
        "print(medias)\n",
        "\n",
        "\n"
      ],
      "metadata": {
        "id": "eQnOUDfYMlWy",
        "colab": {
          "base_uri": "https://localhost:8080/"
        },
        "outputId": "ddb1bb4a-1424-43cd-8e20-a5ad5f0565ca"
      },
      "execution_count": null,
      "outputs": [
        {
          "output_type": "stream",
          "name": "stdout",
          "text": [
            "A média de espécies da Área Norte é 5027.5\n",
            "A média de espécies da Área Leste é 5466.0\n",
            "A média de espécies da Área Sul é 6732.5\n",
            "A média de espécies da Área Oeste é 32067.0\n",
            "A média de espécies da Área Central é 33853.0\n",
            "A área com a maior média é a Área Central\n",
            "{'Área Norte': 5027.5, 'Área Leste': 5466.0, 'Área Sul': 6732.5, 'Área Oeste': 32067.0, 'Área Central': 33853.0}\n"
          ]
        }
      ]
    },
    {
      "cell_type": "markdown",
      "source": [
        "#### Questão 15\n",
        "O setor de RH da sua empresa te pediu uma ajuda para analisar as idades dos funcionários de 4 setores da empresa. Para isso, ele te forneceu os seguintes dados:\n",
        "```\n",
        "{'Setor A': [22, 26, 30, 30, 35, 38, 40, 56, 57, 65],\n",
        " 'Setor B': [22, 24, 26, 33, 41, 49, 50, 54, 60, 64],\n",
        " 'Setor C': [23, 26, 26, 29, 34, 35, 36, 41, 52, 56],\n",
        " 'Setor D': [19, 20, 25, 27, 34, 39, 42, 44, 50, 65]}\n",
        "```\n",
        "Sabendo que cada setor tem 10 funcionários, construa um código que calcule a média de idade de cada setor, a idade média geral entre todos os setores e quantas pessoas estão acima da idade média geral.\n"
      ],
      "metadata": {
        "id": "r0RW2Sy_MlWy"
      }
    },
    {
      "cell_type": "code",
      "source": [
        "idades_setor = {'Setor A': [22, 26, 30, 30, 35, 38, 40, 56, 57, 65],\n",
        " 'Setor B': [22, 24, 26, 33, 41, 49, 50, 54, 60, 64],\n",
        " 'Setor C': [23, 26, 26, 29, 34, 35, 36, 41, 52, 56],\n",
        " 'Setor D': [19, 20, 25, 27, 34, 39, 42, 44, 50, 65]}\n",
        "medias_idade = []\n",
        "idades = []\n",
        "idades_over_avg = 0\n",
        "medias_setor = {}\n",
        "for k, v in idades_setor.items():\n",
        "  media = round(sum(v)/len(v),2)\n",
        "  medias_idade.append(media)\n",
        "  medias_setor[k]=media\n",
        "  idades.extend(v)\n",
        "media_geral = round(sum(medias_idade)/len(medias_idade),2)\n",
        "for i in idades:\n",
        "  if i > media_geral:\n",
        "    idades_over_avg += 1\n",
        "for k, v in medias_setor.items():\n",
        "  print(f'A média de idade do {k} é {v}')\n",
        "print(f'A média de idade geral é {media_geral}')\n",
        "print(f'Há {idades_over_avg} pessoas com idade acima da média geral')\n"
      ],
      "metadata": {
        "id": "wCiwyKP3MmTz",
        "colab": {
          "base_uri": "https://localhost:8080/"
        },
        "outputId": "4c1bb8bf-1b48-4c9d-8416-619c45a74b33"
      },
      "execution_count": null,
      "outputs": [
        {
          "output_type": "stream",
          "name": "stdout",
          "text": [
            "A média de idade do Setor A é 39.9\n",
            "A média de idade do Setor B é 42.3\n",
            "A média de idade do Setor C é 35.8\n",
            "A média de idade do Setor D é 36.5\n",
            "A média de idade geral é 38.62\n",
            "Há 18 pessoas com idade acima da média geral\n"
          ]
        }
      ]
    }
  ]
}